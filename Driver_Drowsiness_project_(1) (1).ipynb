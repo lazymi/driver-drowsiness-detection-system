{
  "cells": [
    {
      "cell_type": "code",
      "execution_count": null,
      "id": "ca8bfe49",
      "metadata": {
        "id": "ca8bfe49",
        "outputId": "95cdc72c-9fe1-4111-fdb1-bd056a2ebb7c"
      },
      "outputs": [
        {
          "name": "stdout",
          "output_type": "stream",
          "text": [
            "Requirement already satisfied: opencv-python in c:\\users\\palsa\\anaconda3\\lib\\site-packages (4.7.0.72)\n",
            "Requirement already satisfied: numpy>=1.17.3 in c:\\users\\palsa\\anaconda3\\lib\\site-packages (from opencv-python) (1.23.5)\n"
          ]
        }
      ],
      "source": [
        "!pip install opencv-python"
      ]
    },
    {
      "cell_type": "code",
      "execution_count": null,
      "id": "83e88a0b",
      "metadata": {
        "id": "83e88a0b",
        "outputId": "54c3ad76-8b03-44fa-b750-b6d400ce99de"
      },
      "outputs": [
        {
          "name": "stdout",
          "output_type": "stream",
          "text": [
            "Microsoft Windows [Version 10.0.19045.2846]\n",
            "(c) Microsoft Corporation. All rights reserved.\n",
            "\n",
            "(base) C:\\Users\\palsa>pip install cmake\n",
            "Collecting cmake\n",
            "  Downloading cmake-3.26.3-py2.py3-none-win_amd64.whl (33.0 MB)\n",
            "     ---------------------------------------- 33.0/33.0 MB 3.0 MB/s eta 0:00:00\n",
            "Installing collected packages: cmake\n",
            "Successfully installed cmake-3.26.3\n",
            "\n",
            "(base) C:\\Users\\palsa>"
          ]
        }
      ],
      "source": [
        "%%cmd\n",
        "pip install cmake"
      ]
    },
    {
      "cell_type": "code",
      "execution_count": null,
      "id": "fec983fb",
      "metadata": {
        "id": "fec983fb",
        "outputId": "600d5fb4-8858-475d-a001-46f199db5390"
      },
      "outputs": [
        {
          "name": "stdout",
          "output_type": "stream",
          "text": [
            "Microsoft Windows [Version 10.0.19045.2846]\n",
            "(c) Microsoft Corporation. All rights reserved.\n",
            "\n",
            "(base) C:\\Users\\palsa>python --version\n",
            "Python 3.10.9\n",
            "\n",
            "(base) C:\\Users\\palsa>"
          ]
        }
      ],
      "source": [
        "%%cmd\n",
        "python --version"
      ]
    },
    {
      "cell_type": "code",
      "execution_count": null,
      "id": "344db29f",
      "metadata": {
        "id": "344db29f",
        "outputId": "07e2ce8e-32b0-42f2-d5df-0c49b9fa63e4"
      },
      "outputs": [
        {
          "name": "stdout",
          "output_type": "stream",
          "text": [
            "Microsoft Windows [Version 10.0.19045.2846]\n",
            "(c) Microsoft Corporation. All rights reserved.\n",
            "\n",
            "(base) C:\\Users\\palsa>pip install \"C:\\Users\\palsa\\OneDrive\\Desktop\\Dlib-python whl packages\\Dlib-python whl packages\\dlib-19.22.99-cp310-cp310-win_amd64.whl\"\n",
            "Processing c:\\users\\palsa\\onedrive\\desktop\\dlib-python whl packages\\dlib-python whl packages\\dlib-19.22.99-cp310-cp310-win_amd64.whl\n",
            "Installing collected packages: dlib\n",
            "Successfully installed dlib-19.22.99\n",
            "\n",
            "(base) C:\\Users\\palsa>"
          ]
        }
      ],
      "source": [
        "%%cmd\n",
        "pip install \"C:\\Users\\palsa\\OneDrive\\Desktop\\Dlib-python whl packages\\Dlib-python whl packages\\dlib-19.22.99-cp310-cp310-win_amd64.whl\""
      ]
    },
    {
      "cell_type": "code",
      "execution_count": null,
      "id": "e97fcb51",
      "metadata": {
        "id": "e97fcb51",
        "outputId": "38bf8193-6ade-4c04-8242-ecd49c230911"
      },
      "outputs": [
        {
          "name": "stdout",
          "output_type": "stream",
          "text": [
            "Note: you may need to restart the kernel to use updated packages.\n",
            "Collecting imutils\n",
            "  Downloading imutils-0.5.4.tar.gz (17 kB)\n",
            "  Preparing metadata (setup.py): started\n",
            "  Preparing metadata (setup.py): finished with status 'done'\n",
            "Building wheels for collected packages: imutils\n",
            "  Building wheel for imutils (setup.py): started\n",
            "  Building wheel for imutils (setup.py): finished with status 'done'\n",
            "  Created wheel for imutils: filename=imutils-0.5.4-py3-none-any.whl size=25854 sha256=c1e3c58ff9d1feae3f696a17be30c048eb178e9e206faf3be2c1d2341b7c78dd\n",
            "  Stored in directory: c:\\users\\palsa\\appdata\\local\\pip\\cache\\wheels\\c2\\02\\32\\f3617a9f68bcc67eda3ebeb4514eba18f62e81ff439428109d\n",
            "Successfully built imutils\n",
            "Installing collected packages: imutils\n",
            "Successfully installed imutils-0.5.4\n"
          ]
        }
      ],
      "source": [
        "pip install imutils"
      ]
    },
    {
      "cell_type": "code",
      "execution_count": null,
      "id": "338c11aa",
      "metadata": {
        "id": "338c11aa"
      },
      "outputs": [],
      "source": [
        "# importing OpenCV Library for basic image processing function\n",
        "import cv2"
      ]
    },
    {
      "cell_type": "code",
      "execution_count": null,
      "id": "851b4e6b",
      "metadata": {
        "id": "851b4e6b"
      },
      "outputs": [],
      "source": [
        "#numpy for array related functions\n",
        "import numpy  as np"
      ]
    },
    {
      "cell_type": "code",
      "execution_count": null,
      "id": "d88d8946",
      "metadata": {
        "id": "d88d8946"
      },
      "outputs": [],
      "source": [
        "# dlib for deep learning based module AND face landmark detection\n",
        "import dlib"
      ]
    },
    {
      "cell_type": "code",
      "execution_count": null,
      "id": "3aca7c9f",
      "metadata": {
        "id": "3aca7c9f"
      },
      "outputs": [],
      "source": [
        "from imutils import face_utils"
      ]
    },
    {
      "cell_type": "code",
      "execution_count": null,
      "id": "704d5b75",
      "metadata": {
        "id": "704d5b75"
      },
      "outputs": [],
      "source": [
        "# initializing the camera and taking the instance\n",
        "cap = cv2.VideoCapture(0)"
      ]
    },
    {
      "cell_type": "code",
      "execution_count": null,
      "id": "ea067741",
      "metadata": {
        "id": "ea067741"
      },
      "outputs": [],
      "source": [
        "# initializing the face detector and landmark detector\n",
        "detector = dlib.get_frontal_face_detector() #identifies the face with rectangles\n",
        "predictor = dlib.shape_predictor(\"shape_predictor_68_face_landmarks.dat\") #takes face image and outputs a set of points to define features"
      ]
    },
    {
      "cell_type": "code",
      "execution_count": null,
      "id": "008211dc",
      "metadata": {
        "id": "008211dc"
      },
      "outputs": [],
      "source": [
        "#status marking for current state\n",
        "sleep = 0\n",
        "drowsy = 0\n",
        "active = 0\n",
        "status=\"\"\n",
        "color=(0,0,0)"
      ]
    },
    {
      "cell_type": "code",
      "execution_count": null,
      "id": "86815fb5",
      "metadata": {
        "id": "86815fb5"
      },
      "outputs": [],
      "source": [
        "def compute(ptA,ptB):\n",
        "    dist = np.linalg.norm(ptA - ptB) #finding the euclidean distance between points\n",
        "    return dist"
      ]
    },
    {
      "cell_type": "code",
      "execution_count": null,
      "id": "c8a008d4",
      "metadata": {
        "id": "c8a008d4"
      },
      "outputs": [],
      "source": [
        "def blinked(a,b,c,d,e,f):\n",
        "    up = compute(b,d) + compute(c,e)\n",
        "    down = compute(a,f)\n",
        "    ratio = up/(2.0*down)\n",
        "#Checking if it is blinked\n",
        "    if(ratio>0.25):\n",
        "        return 2\n",
        "    elif(ratio>0.21 and ratio<=0.25):\n",
        "        return 1\n",
        "    else:\n",
        "        return 0"
      ]
    },
    {
      "cell_type": "code",
      "execution_count": null,
      "id": "c65ff2c5",
      "metadata": {
        "id": "c65ff2c5"
      },
      "outputs": [],
      "source": [
        "while True:\n",
        "    _, frame = cap.read()\n",
        "    gray = cv2.cvtColor(frame, cv2.COLOR_BGR2GRAY) # we are converting the image to grayscale inorder to reduce computation requirements and simplify the algorithm\n",
        "    # another reason is that rgb has three colors which means 3 dimensions whereas grayscale in single dimension---> dimensionality reduction\n",
        "\n",
        "    #faces give list of rectangles having one element for each face image\n",
        "    faces = detector(gray)\n",
        "    face_frame = frame.copy()\n",
        "    #detected face in faces array\n",
        "    for face in faces:\n",
        "        x1 = face.left()\n",
        "        y1 = face.top()\n",
        "        x2 = face.right()\n",
        "        y2 = face.bottom()\n",
        "\n",
        "        cv2.rectangle(face_frame, (x1, y1), (x2, y2), (0, 255, 0), 2)\n",
        "\n",
        "       #landmarks contains cordinates corresponding to each facial parts\n",
        "        landmarks = predictor(gray, face)\n",
        "       #this is converted into numpy array to access each part\n",
        "        landmarks = face_utils.shape_to_np(landmarks)\n",
        "\n",
        "        #The numbers are actually the landmarks which will show eye\n",
        "        left_blink = blinked(landmarks[36],landmarks[37],\n",
        "        landmarks[38], landmarks[41], landmarks[40], landmarks[39])\n",
        "        right_blink = blinked(landmarks[42],landmarks[43],\n",
        "        landmarks[44], landmarks[47], landmarks[46], landmarks[45])\n",
        "\n",
        "        #Now judge what to do for the eye blinks\n",
        "        if(left_blink==0 or right_blink==0):\n",
        "            sleep+= 1\n",
        "            drowsy=0\n",
        "            active=0\n",
        "        if(sleep>6):\n",
        "            status=\"SLEEPING !!!\"\n",
        "            color = (255,0,0)#red color\n",
        "\n",
        "        elif(left_blink==1 or right_blink==1):\n",
        "            sleep=0\n",
        "            active=0\n",
        "            drowsy+=1\n",
        "        if(drowsy>6):\n",
        "            status=\"Drowsy !\"\n",
        "            color = (0,0,255) #blue color\n",
        "\n",
        "        else:\n",
        "            drowsy=0\n",
        "            sleep=0\n",
        "            active+=1\n",
        "        if(active>6):\n",
        "            status=\"Active :)\"\n",
        "            color = (0,255,0) #green color\n",
        "\n",
        "        cv2.putText(frame, status, (100,100), cv2.FONT_HERSHEY_SIMPLEX, 1.2, color,3) #to write text on images\n",
        "\n",
        "        for n in range(0, 68):\n",
        "            (x,y) = landmarks[n]\n",
        "            cv2.circle(face_frame, (x, y), 1, (255, 255, 255), -1) #white color\n",
        "    cv2.imshow(\"Frame\", frame)\n",
        "    cv2.imshow(\"Result of detector\", face_frame)\n",
        "    key = cv2.waitKey(1)\n",
        "    #waitkey(1) gives live feed where as 0 give still images\n",
        "    if key == 27:\n",
        "      break"
      ]
    },
    {
      "cell_type": "code",
      "execution_count": null,
      "id": "65c4a370",
      "metadata": {
        "id": "65c4a370"
      },
      "outputs": [],
      "source": []
    }
  ],
  "metadata": {
    "kernelspec": {
      "display_name": "Python 3 (ipykernel)",
      "language": "python",
      "name": "python3"
    },
    "language_info": {
      "codemirror_mode": {
        "name": "ipython",
        "version": 3
      },
      "file_extension": ".py",
      "mimetype": "text/x-python",
      "name": "python",
      "nbconvert_exporter": "python",
      "pygments_lexer": "ipython3",
      "version": "3.10.9"
    },
    "colab": {
      "provenance": []
    }
  },
  "nbformat": 4,
  "nbformat_minor": 5
}