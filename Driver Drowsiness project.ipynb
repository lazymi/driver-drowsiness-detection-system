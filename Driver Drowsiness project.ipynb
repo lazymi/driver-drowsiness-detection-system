{
 "cells": [
  {
   "cell_type": "code",
   "execution_count": 31,
   "id": "ca8bfe49",
   "metadata": {},
   "outputs": [
    {
     "name": "stdout",
     "output_type": "stream",
     "text": [
      "Requirement already satisfied: opencv-python in c:\\users\\palsa\\anaconda3\\lib\\site-packages (4.7.0.72)\n",
      "Requirement already satisfied: numpy>=1.17.3 in c:\\users\\palsa\\anaconda3\\lib\\site-packages (from opencv-python) (1.23.5)\n"
     ]
    }
   ],
   "source": [
    "!pip install opencv-python "
   ]
  },
  {
   "cell_type": "code",
   "execution_count": 12,
   "id": "83e88a0b",
   "metadata": {},
   "outputs": [
    {
     "name": "stdout",
     "output_type": "stream",
     "text": [
      "Microsoft Windows [Version 10.0.19045.2846]\n",
      "(c) Microsoft Corporation. All rights reserved.\n",
      "\n",
      "(base) C:\\Users\\palsa>pip install cmake\n",
      "Collecting cmake\n",
      "  Downloading cmake-3.26.3-py2.py3-none-win_amd64.whl (33.0 MB)\n",
      "     ---------------------------------------- 33.0/33.0 MB 3.0 MB/s eta 0:00:00\n",
      "Installing collected packages: cmake\n",
      "Successfully installed cmake-3.26.3\n",
      "\n",
      "(base) C:\\Users\\palsa>"
     ]
    }
   ],
   "source": [
    "%%cmd\n",
    "pip install cmake"
   ]
  },
  {
   "cell_type": "code",
   "execution_count": 18,
   "id": "fec983fb",
   "metadata": {},
   "outputs": [
    {
     "name": "stdout",
     "output_type": "stream",
     "text": [
      "Microsoft Windows [Version 10.0.19045.2846]\n",
      "(c) Microsoft Corporation. All rights reserved.\n",
      "\n",
      "(base) C:\\Users\\palsa>python --version\n",
      "Python 3.10.9\n",
      "\n",
      "(base) C:\\Users\\palsa>"
     ]
    }
   ],
   "source": [
    "%%cmd\n",
    "python --version"
   ]
  },
  {
   "cell_type": "code",
   "execution_count": 20,
   "id": "344db29f",
   "metadata": {},
   "outputs": [
    {
     "name": "stdout",
     "output_type": "stream",
     "text": [
      "Microsoft Windows [Version 10.0.19045.2846]\n",
      "(c) Microsoft Corporation. All rights reserved.\n",
      "\n",
      "(base) C:\\Users\\palsa>pip install \"C:\\Users\\palsa\\OneDrive\\Desktop\\Dlib-python whl packages\\Dlib-python whl packages\\dlib-19.22.99-cp310-cp310-win_amd64.whl\"\n",
      "Processing c:\\users\\palsa\\onedrive\\desktop\\dlib-python whl packages\\dlib-python whl packages\\dlib-19.22.99-cp310-cp310-win_amd64.whl\n",
      "Installing collected packages: dlib\n",
      "Successfully installed dlib-19.22.99\n",
      "\n",
      "(base) C:\\Users\\palsa>"
     ]
    }
   ],
   "source": [
    "%%cmd\n",
    "pip install \"C:\\Users\\palsa\\OneDrive\\Desktop\\Dlib-python whl packages\\Dlib-python whl packages\\dlib-19.22.99-cp310-cp310-win_amd64.whl\""
   ]
  },
  {
   "cell_type": "code",
   "execution_count": 26,
   "id": "e97fcb51",
   "metadata": {},
   "outputs": [
    {
     "name": "stdout",
     "output_type": "stream",
     "text": [
      "Note: you may need to restart the kernel to use updated packages.\n",
      "Collecting imutils\n",
      "  Downloading imutils-0.5.4.tar.gz (17 kB)\n",
      "  Preparing metadata (setup.py): started\n",
      "  Preparing metadata (setup.py): finished with status 'done'\n",
      "Building wheels for collected packages: imutils\n",
      "  Building wheel for imutils (setup.py): started\n",
      "  Building wheel for imutils (setup.py): finished with status 'done'\n",
      "  Created wheel for imutils: filename=imutils-0.5.4-py3-none-any.whl size=25854 sha256=c1e3c58ff9d1feae3f696a17be30c048eb178e9e206faf3be2c1d2341b7c78dd\n",
      "  Stored in directory: c:\\users\\palsa\\appdata\\local\\pip\\cache\\wheels\\c2\\02\\32\\f3617a9f68bcc67eda3ebeb4514eba18f62e81ff439428109d\n",
      "Successfully built imutils\n",
      "Installing collected packages: imutils\n",
      "Successfully installed imutils-0.5.4\n"
     ]
    }
   ],
   "source": [
    "pip install imutils"
   ]
  },
  {
   "cell_type": "code",
   "execution_count": 1,
   "id": "338c11aa",
   "metadata": {},
   "outputs": [],
   "source": [
    "# importing OpenCV Library for basic image processing function\n",
    "import cv2"
   ]
  },
  {
   "cell_type": "code",
   "execution_count": 2,
   "id": "851b4e6b",
   "metadata": {},
   "outputs": [],
   "source": [
    "#numpy for array related functions\n",
    "import numpy  as np "
   ]
  },
  {
   "cell_type": "code",
   "execution_count": 3,
   "id": "d88d8946",
   "metadata": {},
   "outputs": [],
   "source": [
    "# dlib for deep learning based module AND face landmark detection \n",
    "import dlib"
   ]
  },
  {
   "cell_type": "code",
   "execution_count": 4,
   "id": "3aca7c9f",
   "metadata": {},
   "outputs": [],
   "source": [
    "from imutils import face_utils"
   ]
  },
  {
   "cell_type": "code",
   "execution_count": 5,
   "id": "704d5b75",
   "metadata": {},
   "outputs": [],
   "source": [
    "# initializing the camera and taking the instance\n",
    "cap = cv2.VideoCapture(0)"
   ]
  },
  {
   "cell_type": "code",
   "execution_count": 6,
   "id": "ea067741",
   "metadata": {},
   "outputs": [],
   "source": [
    "# initializing the face detector and landmark detector\n",
    "detector = dlib.get_frontal_face_detector()\n",
    "predictor = dlib.shape_predictor(\"shape_predictor_68_face_landmarks.dat\")"
   ]
  },
  {
   "cell_type": "code",
   "execution_count": 7,
   "id": "008211dc",
   "metadata": {},
   "outputs": [],
   "source": [
    "#status marking for current state\n",
    "sleep = 0\n",
    "drowsy = 0\n",
    "active = 0\n",
    "status=\"\"\n",
    "color=(0,0,0)"
   ]
  },
  {
   "cell_type": "code",
   "execution_count": 8,
   "id": "86815fb5",
   "metadata": {},
   "outputs": [],
   "source": [
    "def compute(ptA,ptB):\n",
    "    dist = np.linalg.norm(ptA - ptB)\n",
    "    return dist"
   ]
  },
  {
   "cell_type": "code",
   "execution_count": 9,
   "id": "c8a008d4",
   "metadata": {},
   "outputs": [],
   "source": [
    "def blinked(a,b,c,d,e,f):\n",
    "    up = compute(b,d) + compute(c,e)\n",
    "    down = compute(a,f)\n",
    "    ratio = up/(2.0*down)\n",
    "#Checking if it is blinked\n",
    "    if(ratio>0.25):\n",
    "        return 2\n",
    "    elif(ratio>0.21 and ratio<=0.25):\n",
    "        return 1\n",
    "    else:\n",
    "        return 0 "
   ]
  },
  {
   "cell_type": "code",
   "execution_count": null,
   "id": "c65ff2c5",
   "metadata": {},
   "outputs": [],
   "source": [
    "while True:\n",
    "    _, frame = cap.read()\n",
    "    gray = cv2.cvtColor(frame, cv2.COLOR_BGR2GRAY)\n",
    "\n",
    "    faces = detector(gray)\n",
    "    face_frame = frame.copy()\n",
    "    #detected face in faces array\n",
    "    for face in faces:\n",
    "        x1 = face.left()\n",
    "        y1 = face.top()\n",
    "        x2 = face.right()\n",
    "        y2 = face.bottom()\n",
    "\n",
    "        cv2.rectangle(face_frame, (x1, y1), (x2, y2), (0, 255, 0), 2)\n",
    "\n",
    "        landmarks = predictor(gray, face)\n",
    "        landmarks = face_utils.shape_to_np(landmarks)\n",
    "\n",
    "        #The numbers are actually the landmarks which will show eye\n",
    "        left_blink = blinked(landmarks[36],landmarks[37], \n",
    "        landmarks[38], landmarks[41], landmarks[40], landmarks[39])\n",
    "        right_blink = blinked(landmarks[42],landmarks[43], \n",
    "        landmarks[44], landmarks[47], landmarks[46], landmarks[45])\n",
    "        \n",
    "        #Now judge what to do for the eye blinks\n",
    "        if(left_blink==0 or right_blink==0):\n",
    "            sleep+= 1\n",
    "            drowsy=0\n",
    "            active=0\n",
    "        if(sleep>6):\n",
    "            status=\"SLEEPING !!!\"\n",
    "            color = (255,0,0)\n",
    "\n",
    "        elif(left_blink==1 or right_blink==1):\n",
    "            sleep=0\n",
    "            active=0\n",
    "            drowsy+=1\n",
    "        if(drowsy>6):\n",
    "            status=\"Drowsy !\"\n",
    "            color = (0,0,255)\n",
    "\n",
    "        else:\n",
    "            drowsy=0\n",
    "            sleep=0\n",
    "            active+=1\n",
    "        if(active>6):\n",
    "            status=\"Active :)\"\n",
    "            color = (0,255,0)\n",
    "        \n",
    "        cv2.putText(frame, status, (100,100), cv2.FONT_HERSHEY_SIMPLEX, 1.2, color,3)\n",
    "\n",
    "        for n in range(0, 68):\n",
    "            (x,y) = landmarks[n]\n",
    "            cv2.circle(face_frame, (x, y), 1, (255, 255, 255), -1)\n",
    "    cv2.imshow(\"Frame\", frame)\n",
    "    cv2.imshow(\"Result of detector\", face_frame)\n",
    "    key = cv2.waitKey(1)\n",
    "if key == 27:\n",
    "    break  "
   ]
  },
  {
   "cell_type": "code",
   "execution_count": null,
   "id": "65c4a370",
   "metadata": {},
   "outputs": [],
   "source": []
  }
 ],
 "metadata": {
  "kernelspec": {
   "display_name": "Python 3 (ipykernel)",
   "language": "python",
   "name": "python3"
  },
  "language_info": {
   "codemirror_mode": {
    "name": "ipython",
    "version": 3
   },
   "file_extension": ".py",
   "mimetype": "text/x-python",
   "name": "python",
   "nbconvert_exporter": "python",
   "pygments_lexer": "ipython3",
   "version": "3.10.9"
  }
 },
 "nbformat": 4,
 "nbformat_minor": 5
}
